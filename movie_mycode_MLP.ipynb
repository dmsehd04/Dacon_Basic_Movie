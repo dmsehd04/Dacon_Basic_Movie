{
 "cells": [
  {
   "cell_type": "code",
   "execution_count": 34,
   "id": "90814c7c",
   "metadata": {},
   "outputs": [],
   "source": [
    "import pandas as pd\n",
    "import numpy as np\n",
    "import warnings\n",
    "warnings.filterwarnings(action='ignore')\n",
    "import nltk"
   ]
  },
  {
   "cell_type": "code",
   "execution_count": 35,
   "id": "13c51d27",
   "metadata": {},
   "outputs": [
    {
     "data": {
      "text/html": [
       "<div>\n",
       "<style scoped>\n",
       "    .dataframe tbody tr th:only-of-type {\n",
       "        vertical-align: middle;\n",
       "    }\n",
       "\n",
       "    .dataframe tbody tr th {\n",
       "        vertical-align: top;\n",
       "    }\n",
       "\n",
       "    .dataframe thead th {\n",
       "        text-align: right;\n",
       "    }\n",
       "</style>\n",
       "<table border=\"1\" class=\"dataframe\">\n",
       "  <thead>\n",
       "    <tr style=\"text-align: right;\">\n",
       "      <th></th>\n",
       "      <th>id</th>\n",
       "      <th>document</th>\n",
       "      <th>label</th>\n",
       "    </tr>\n",
       "  </thead>\n",
       "  <tbody>\n",
       "    <tr>\n",
       "      <th>0</th>\n",
       "      <td>1</td>\n",
       "      <td>영상이나 음악이 이쁘다 해도 미화시킨 불륜일뿐</td>\n",
       "      <td>0</td>\n",
       "    </tr>\n",
       "    <tr>\n",
       "      <th>1</th>\n",
       "      <td>2</td>\n",
       "      <td>히치콕이 이 영화를 봤다면 분명 박수를 쳤을듯...</td>\n",
       "      <td>1</td>\n",
       "    </tr>\n",
       "    <tr>\n",
       "      <th>2</th>\n",
       "      <td>3</td>\n",
       "      <td>괜찮은 음악영화가 또 나왔군요!!! 따뜻한 겨울이 될 것 같아요~</td>\n",
       "      <td>1</td>\n",
       "    </tr>\n",
       "    <tr>\n",
       "      <th>3</th>\n",
       "      <td>4</td>\n",
       "      <td>아무래도 20년도지난작품이라 지금보기는너무유치하다</td>\n",
       "      <td>0</td>\n",
       "    </tr>\n",
       "    <tr>\n",
       "      <th>4</th>\n",
       "      <td>5</td>\n",
       "      <td>지금까지의 영화들이 그랬듯. 이 영화역시 일본에 대한 미화는 여전하다.</td>\n",
       "      <td>0</td>\n",
       "    </tr>\n",
       "  </tbody>\n",
       "</table>\n",
       "</div>"
      ],
      "text/plain": [
       "   id                                 document  label\n",
       "0   1                영상이나 음악이 이쁘다 해도 미화시킨 불륜일뿐      0\n",
       "1   2             히치콕이 이 영화를 봤다면 분명 박수를 쳤을듯...      1\n",
       "2   3     괜찮은 음악영화가 또 나왔군요!!! 따뜻한 겨울이 될 것 같아요~      1\n",
       "3   4              아무래도 20년도지난작품이라 지금보기는너무유치하다      0\n",
       "4   5  지금까지의 영화들이 그랬듯. 이 영화역시 일본에 대한 미화는 여전하다.      0"
      ]
     },
     "execution_count": 35,
     "metadata": {},
     "output_type": "execute_result"
    }
   ],
   "source": [
    "data = pd.read_csv(\"movie_dataset/train.csv\")\n",
    "\n",
    "data.head()"
   ]
  },
  {
   "cell_type": "code",
   "execution_count": 36,
   "id": "3bfddfdd",
   "metadata": {},
   "outputs": [
    {
     "data": {
      "text/plain": [
       "id          0\n",
       "document    0\n",
       "label       0\n",
       "dtype: int64"
      ]
     },
     "execution_count": 36,
     "metadata": {},
     "output_type": "execute_result"
    }
   ],
   "source": [
    "data.isnull().sum()"
   ]
  },
  {
   "cell_type": "code",
   "execution_count": 37,
   "id": "fd68cd64",
   "metadata": {},
   "outputs": [],
   "source": [
    "from sklearn.model_selection import train_test_split\n",
    "\n",
    "train, val = train_test_split(data)\n",
    "train.reset_index(inplace=True)\n",
    "val.reset_index(inplace=True)"
   ]
  },
  {
   "cell_type": "code",
   "execution_count": 38,
   "id": "dccdda85",
   "metadata": {},
   "outputs": [],
   "source": [
    "from konlpy.tag import Okt\n",
    "\n",
    "okt = Okt()"
   ]
  },
  {
   "cell_type": "code",
   "execution_count": 39,
   "id": "efef046a",
   "metadata": {},
   "outputs": [
    {
     "data": {
      "text/html": [
       "<div>\n",
       "<style scoped>\n",
       "    .dataframe tbody tr th:only-of-type {\n",
       "        vertical-align: middle;\n",
       "    }\n",
       "\n",
       "    .dataframe tbody tr th {\n",
       "        vertical-align: top;\n",
       "    }\n",
       "\n",
       "    .dataframe thead th {\n",
       "        text-align: right;\n",
       "    }\n",
       "</style>\n",
       "<table border=\"1\" class=\"dataframe\">\n",
       "  <thead>\n",
       "    <tr style=\"text-align: right;\">\n",
       "      <th></th>\n",
       "      <th>index</th>\n",
       "      <th>id</th>\n",
       "      <th>document</th>\n",
       "      <th>label</th>\n",
       "      <th>main_pos</th>\n",
       "    </tr>\n",
       "  </thead>\n",
       "  <tbody>\n",
       "    <tr>\n",
       "      <th>0</th>\n",
       "      <td>3474</td>\n",
       "      <td>3475</td>\n",
       "      <td>멜로연기는 최지우가 제일잘하는듯</td>\n",
       "      <td>1</td>\n",
       "      <td>멜로 연기 최지우 제일 잘하는듯</td>\n",
       "    </tr>\n",
       "    <tr>\n",
       "      <th>1</th>\n",
       "      <td>221</td>\n",
       "      <td>222</td>\n",
       "      <td>제임스딘 그의 매력을 누가 따라올까...</td>\n",
       "      <td>1</td>\n",
       "      <td>제임스딘 그 매력 누가 따라올까</td>\n",
       "    </tr>\n",
       "    <tr>\n",
       "      <th>2</th>\n",
       "      <td>1399</td>\n",
       "      <td>1400</td>\n",
       "      <td>아직도 그립다...폴워커...</td>\n",
       "      <td>1</td>\n",
       "      <td>아직도 그립다 폴 워커</td>\n",
       "    </tr>\n",
       "    <tr>\n",
       "      <th>3</th>\n",
       "      <td>1562</td>\n",
       "      <td>1563</td>\n",
       "      <td>별반개도 완전 아까움영화관서 보다 배멀미했던 기억</td>\n",
       "      <td>0</td>\n",
       "      <td>반개 완전 아까 움 영화관 보다 배 멀미 했던 기억</td>\n",
       "    </tr>\n",
       "    <tr>\n",
       "      <th>4</th>\n",
       "      <td>3605</td>\n",
       "      <td>3606</td>\n",
       "      <td>좋은 강연을 해주서서 고맙습니다</td>\n",
       "      <td>1</td>\n",
       "      <td>좋은 강연 해주 서서 고맙습니다</td>\n",
       "    </tr>\n",
       "  </tbody>\n",
       "</table>\n",
       "</div>"
      ],
      "text/plain": [
       "   index    id                     document  label  \\\n",
       "0   3474  3475            멜로연기는 최지우가 제일잘하는듯      1   \n",
       "1    221   222       제임스딘 그의 매력을 누가 따라올까...      1   \n",
       "2   1399  1400             아직도 그립다...폴워커...      1   \n",
       "3   1562  1563  별반개도 완전 아까움영화관서 보다 배멀미했던 기억      0   \n",
       "4   3605  3606            좋은 강연을 해주서서 고맙습니다      1   \n",
       "\n",
       "                       main_pos  \n",
       "0             멜로 연기 최지우 제일 잘하는듯  \n",
       "1             제임스딘 그 매력 누가 따라올까  \n",
       "2                  아직도 그립다 폴 워커  \n",
       "3  반개 완전 아까 움 영화관 보다 배 멀미 했던 기억  \n",
       "4             좋은 강연 해주 서서 고맙습니다  "
      ]
     },
     "execution_count": 39,
     "metadata": {},
     "output_type": "execute_result"
    }
   ],
   "source": [
    "#train 데이터 전처리\n",
    "main_pos = []\n",
    "for sentence in train['document']:\n",
    "    pos = okt.pos(sentence)\n",
    "    main_words = [word_pos[0] for word_pos in pos if word_pos[1] in (\"Noun\", \"Adverb\", \"Adjective\", \"Verb\")]\n",
    "    main_words_str = \" \".join(main_words)\n",
    "    main_pos.append(main_words_str)\n",
    "train['main_pos'] = pd.DataFrame(main_pos)\n",
    "train.head()"
   ]
  },
  {
   "cell_type": "code",
   "execution_count": 40,
   "id": "c62bc9bb",
   "metadata": {},
   "outputs": [],
   "source": [
    "X_train = train.main_pos\n",
    "y_train = train.label"
   ]
  },
  {
   "cell_type": "code",
   "execution_count": 41,
   "id": "3ab4eca9",
   "metadata": {},
   "outputs": [],
   "source": [
    "from sklearn.feature_extraction.text import CountVectorizer\n",
    "\n",
    "vectorizer = CountVectorizer()\n",
    "vectorizer.fit(X_train)\n",
    "X_train_vec = vectorizer.transform(X_train)"
   ]
  },
  {
   "cell_type": "code",
   "execution_count": 42,
   "id": "213caf0d",
   "metadata": {},
   "outputs": [
    {
     "data": {
      "text/plain": [
       "MLPClassifier()"
      ]
     },
     "execution_count": 42,
     "metadata": {},
     "output_type": "execute_result"
    }
   ],
   "source": [
    "from sklearn.neural_network import MLPClassifier\n",
    "model = MLPClassifier()\n",
    "model.fit(X_train_vec, y_train)"
   ]
  },
  {
   "cell_type": "code",
   "execution_count": 43,
   "id": "eb6bda7d",
   "metadata": {},
   "outputs": [
    {
     "data": {
      "text/html": [
       "<div>\n",
       "<style scoped>\n",
       "    .dataframe tbody tr th:only-of-type {\n",
       "        vertical-align: middle;\n",
       "    }\n",
       "\n",
       "    .dataframe tbody tr th {\n",
       "        vertical-align: top;\n",
       "    }\n",
       "\n",
       "    .dataframe thead th {\n",
       "        text-align: right;\n",
       "    }\n",
       "</style>\n",
       "<table border=\"1\" class=\"dataframe\">\n",
       "  <thead>\n",
       "    <tr style=\"text-align: right;\">\n",
       "      <th></th>\n",
       "      <th>index</th>\n",
       "      <th>id</th>\n",
       "      <th>document</th>\n",
       "      <th>label</th>\n",
       "      <th>main_pos</th>\n",
       "    </tr>\n",
       "  </thead>\n",
       "  <tbody>\n",
       "    <tr>\n",
       "      <th>0</th>\n",
       "      <td>1128</td>\n",
       "      <td>1129</td>\n",
       "      <td>선가(禪家)에 관한 영화 중 가장 개성있는 작품</td>\n",
       "      <td>1</td>\n",
       "      <td>선 관 영화 중 가장 개성 있는 작품</td>\n",
       "    </tr>\n",
       "    <tr>\n",
       "      <th>1</th>\n",
       "      <td>2960</td>\n",
       "      <td>2961</td>\n",
       "      <td>쓰레기더ㅏㅋㅋㅋㅋㅋㅋㅋㅋㅋ돈주고봣엇는데내돈돌려내</td>\n",
       "      <td>0</td>\n",
       "      <td>쓰레기 더 돈 주고 봣 는데 돈 돌려내</td>\n",
       "    </tr>\n",
       "    <tr>\n",
       "      <th>2</th>\n",
       "      <td>4173</td>\n",
       "      <td>4174</td>\n",
       "      <td>만화가 10000000000000000배 훨씬 나아</td>\n",
       "      <td>0</td>\n",
       "      <td>만화가 배 훨씬 나아</td>\n",
       "    </tr>\n",
       "    <tr>\n",
       "      <th>3</th>\n",
       "      <td>1565</td>\n",
       "      <td>1566</td>\n",
       "      <td>동화같은게 이세상에 존재하지않아.</td>\n",
       "      <td>1</td>\n",
       "      <td>동화 같은게 세상 존재 하지 않아</td>\n",
       "    </tr>\n",
       "    <tr>\n",
       "      <th>4</th>\n",
       "      <td>2170</td>\n",
       "      <td>2171</td>\n",
       "      <td>액션 하나로 승부보기엔 너무 엉맘징창인 영화 ㅡ.ㅡ</td>\n",
       "      <td>0</td>\n",
       "      <td>액션 하나로 승부 보기 너무 맘징창 영화</td>\n",
       "    </tr>\n",
       "    <tr>\n",
       "      <th>...</th>\n",
       "      <td>...</td>\n",
       "      <td>...</td>\n",
       "      <td>...</td>\n",
       "      <td>...</td>\n",
       "      <td>...</td>\n",
       "    </tr>\n",
       "    <tr>\n",
       "      <th>1245</th>\n",
       "      <td>1</td>\n",
       "      <td>2</td>\n",
       "      <td>히치콕이 이 영화를 봤다면 분명 박수를 쳤을듯...</td>\n",
       "      <td>1</td>\n",
       "      <td>히치콕 이 영화 봤다면 분명 박수 쳤을듯</td>\n",
       "    </tr>\n",
       "    <tr>\n",
       "      <th>1246</th>\n",
       "      <td>2922</td>\n",
       "      <td>2923</td>\n",
       "      <td>엠비씨 하얀거탑 골든타임은 어디가고 드라마제목부터유치한 메디컬탑팀을만들었나</td>\n",
       "      <td>0</td>\n",
       "      <td>엠비씨 하얀거탑 골든타임 어디가 드라마 제목 유치한 메디컬탑팀 만들었나</td>\n",
       "    </tr>\n",
       "    <tr>\n",
       "      <th>1247</th>\n",
       "      <td>1394</td>\n",
       "      <td>1395</td>\n",
       "      <td>천국에서도 부잣집이 이렇게는 안하겠다</td>\n",
       "      <td>0</td>\n",
       "      <td>천국 부잣집 이렇게는 하겠다</td>\n",
       "    </tr>\n",
       "    <tr>\n",
       "      <th>1248</th>\n",
       "      <td>165</td>\n",
       "      <td>166</td>\n",
       "      <td>이렇게 원작을 망치기도 힘들겠다ㅋ</td>\n",
       "      <td>0</td>\n",
       "      <td>이렇게 원작 망치 기도 힘들겠다</td>\n",
       "    </tr>\n",
       "    <tr>\n",
       "      <th>1249</th>\n",
       "      <td>62</td>\n",
       "      <td>63</td>\n",
       "      <td>이 영화보러 돈 내느니 차라리 맨홀에 돈버리는게 더 나을듯</td>\n",
       "      <td>0</td>\n",
       "      <td>이 영화 보러 돈 내느니 차라리 맨홀 돈 버리는게 더 나을듯</td>\n",
       "    </tr>\n",
       "  </tbody>\n",
       "</table>\n",
       "<p>1250 rows × 5 columns</p>\n",
       "</div>"
      ],
      "text/plain": [
       "      index    id                                   document  label  \\\n",
       "0      1128  1129                 선가(禪家)에 관한 영화 중 가장 개성있는 작품      1   \n",
       "1      2960  2961                 쓰레기더ㅏㅋㅋㅋㅋㅋㅋㅋㅋㅋ돈주고봣엇는데내돈돌려내      0   \n",
       "2      4173  4174               만화가 10000000000000000배 훨씬 나아      0   \n",
       "3      1565  1566                         동화같은게 이세상에 존재하지않아.      1   \n",
       "4      2170  2171               액션 하나로 승부보기엔 너무 엉맘징창인 영화 ㅡ.ㅡ      0   \n",
       "...     ...   ...                                        ...    ...   \n",
       "1245      1     2               히치콕이 이 영화를 봤다면 분명 박수를 쳤을듯...      1   \n",
       "1246   2922  2923  엠비씨 하얀거탑 골든타임은 어디가고 드라마제목부터유치한 메디컬탑팀을만들었나      0   \n",
       "1247   1394  1395                       천국에서도 부잣집이 이렇게는 안하겠다      0   \n",
       "1248    165   166                         이렇게 원작을 망치기도 힘들겠다ㅋ      0   \n",
       "1249     62    63           이 영화보러 돈 내느니 차라리 맨홀에 돈버리는게 더 나을듯      0   \n",
       "\n",
       "                                     main_pos  \n",
       "0                        선 관 영화 중 가장 개성 있는 작품  \n",
       "1                       쓰레기 더 돈 주고 봣 는데 돈 돌려내  \n",
       "2                                 만화가 배 훨씬 나아  \n",
       "3                          동화 같은게 세상 존재 하지 않아  \n",
       "4                      액션 하나로 승부 보기 너무 맘징창 영화  \n",
       "...                                       ...  \n",
       "1245                   히치콕 이 영화 봤다면 분명 박수 쳤을듯  \n",
       "1246  엠비씨 하얀거탑 골든타임 어디가 드라마 제목 유치한 메디컬탑팀 만들었나  \n",
       "1247                          천국 부잣집 이렇게는 하겠다  \n",
       "1248                        이렇게 원작 망치 기도 힘들겠다  \n",
       "1249        이 영화 보러 돈 내느니 차라리 맨홀 돈 버리는게 더 나을듯  \n",
       "\n",
       "[1250 rows x 5 columns]"
      ]
     },
     "execution_count": 43,
     "metadata": {},
     "output_type": "execute_result"
    }
   ],
   "source": [
    "#val 데이터 전처리\n",
    "\n",
    "main_pos = []\n",
    "for sentence in val['document']:\n",
    "    pos = okt.pos(sentence)\n",
    "    main_words = [word_pos[0] for word_pos in pos if word_pos[1] in (\"Noun\", \"Adverb\", \"Adjective\", \"Verb\")]\n",
    "    main_words_str = \" \".join(main_words)\n",
    "    main_pos.append(main_words_str)\n",
    "val['main_pos'] = pd.DataFrame(main_pos)\n",
    "\n",
    "val"
   ]
  },
  {
   "cell_type": "code",
   "execution_count": 44,
   "id": "f361321b",
   "metadata": {},
   "outputs": [],
   "source": [
    "X_val = val.main_pos\n",
    "y_val = val.label"
   ]
  },
  {
   "cell_type": "code",
   "execution_count": 45,
   "id": "49398f65",
   "metadata": {},
   "outputs": [],
   "source": [
    "X_val_vec = vectorizer.transform(X_val)"
   ]
  },
  {
   "cell_type": "code",
   "execution_count": 46,
   "id": "0f864200",
   "metadata": {},
   "outputs": [
    {
     "name": "stdout",
     "output_type": "stream",
     "text": [
      "[1 0 1 ... 0 0 0]\n"
     ]
    }
   ],
   "source": [
    "y_pred = model.predict(X_val_vec)\n",
    "print(y_pred)"
   ]
  },
  {
   "cell_type": "code",
   "execution_count": 47,
   "id": "62dad7ce",
   "metadata": {},
   "outputs": [
    {
     "name": "stdout",
     "output_type": "stream",
     "text": [
      "accuracy= 0.82\n"
     ]
    }
   ],
   "source": [
    "from sklearn import metrics\n",
    "\n",
    "print(\"accuracy=\", metrics.accuracy_score(y_val, y_pred))"
   ]
  },
  {
   "cell_type": "code",
   "execution_count": 48,
   "id": "b858db63",
   "metadata": {},
   "outputs": [],
   "source": [
    "test = pd.read_csv('movie_dataset/test.csv')"
   ]
  },
  {
   "cell_type": "code",
   "execution_count": 49,
   "id": "3a5770f6",
   "metadata": {},
   "outputs": [
    {
     "data": {
      "text/plain": [
       "id          0\n",
       "document    0\n",
       "dtype: int64"
      ]
     },
     "execution_count": 49,
     "metadata": {},
     "output_type": "execute_result"
    }
   ],
   "source": [
    "test.isnull().sum()"
   ]
  },
  {
   "cell_type": "code",
   "execution_count": 57,
   "id": "58872e83",
   "metadata": {},
   "outputs": [
    {
     "data": {
      "text/html": [
       "<div>\n",
       "<style scoped>\n",
       "    .dataframe tbody tr th:only-of-type {\n",
       "        vertical-align: middle;\n",
       "    }\n",
       "\n",
       "    .dataframe tbody tr th {\n",
       "        vertical-align: top;\n",
       "    }\n",
       "\n",
       "    .dataframe thead th {\n",
       "        text-align: right;\n",
       "    }\n",
       "</style>\n",
       "<table border=\"1\" class=\"dataframe\">\n",
       "  <thead>\n",
       "    <tr style=\"text-align: right;\">\n",
       "      <th></th>\n",
       "      <th>id</th>\n",
       "      <th>document</th>\n",
       "      <th>main_pos</th>\n",
       "    </tr>\n",
       "  </thead>\n",
       "  <tbody>\n",
       "    <tr>\n",
       "      <th>0</th>\n",
       "      <td>1</td>\n",
       "      <td>시간 때우기 좋은 영화 지루함</td>\n",
       "      <td>시간 때우기 좋은 영화 지루함</td>\n",
       "    </tr>\n",
       "    <tr>\n",
       "      <th>1</th>\n",
       "      <td>2</td>\n",
       "      <td>훈훈한 정이 느껴지는 영화! 가족끼리 드라마 보듯이 보면 딱~!</td>\n",
       "      <td>훈훈한 정이 느껴지는 영화 가족 끼리 드라마 보듯이 보면 딱</td>\n",
       "    </tr>\n",
       "    <tr>\n",
       "      <th>2</th>\n",
       "      <td>3</td>\n",
       "      <td>Childhood fantasy</td>\n",
       "      <td></td>\n",
       "    </tr>\n",
       "    <tr>\n",
       "      <th>3</th>\n",
       "      <td>4</td>\n",
       "      <td>멋있는 영화입니다. 잊을 수 없는!</td>\n",
       "      <td>멋있는 영화 입니다 잊을 수 없는</td>\n",
       "    </tr>\n",
       "    <tr>\n",
       "      <th>4</th>\n",
       "      <td>5</td>\n",
       "      <td>너무 감동적이네요 펑펑 울었습니다</td>\n",
       "      <td>너무 감동 적이네요 펑펑 울었습니다</td>\n",
       "    </tr>\n",
       "    <tr>\n",
       "      <th>...</th>\n",
       "      <td>...</td>\n",
       "      <td>...</td>\n",
       "      <td>...</td>\n",
       "    </tr>\n",
       "    <tr>\n",
       "      <th>4995</th>\n",
       "      <td>4996</td>\n",
       "      <td>연계도 제대로 안되고 뭔가 부족한느낌이들고 찝찝한영화</td>\n",
       "      <td>계 제대로 안되고 뭔가 부족한 느낌 들고 찝찝한 영화</td>\n",
       "    </tr>\n",
       "    <tr>\n",
       "      <th>4996</th>\n",
       "      <td>4997</td>\n",
       "      <td>내생에 최악의 영화중 하나 졸려서 미칠뻔....</td>\n",
       "      <td>내생 최악 영화 하나 졸려서 미칠 뻔</td>\n",
       "    </tr>\n",
       "    <tr>\n",
       "      <th>4997</th>\n",
       "      <td>4998</td>\n",
       "      <td>지금까지 나온 드라마 중 최고였습니다. 100점 만점!</td>\n",
       "      <td>지금 나온 드라마 중 최고 였습니다 점 만점</td>\n",
       "    </tr>\n",
       "    <tr>\n",
       "      <th>4998</th>\n",
       "      <td>4999</td>\n",
       "      <td>영화값으로 엄청난 공연을 보았다 - 이게 웬 횡재 ..</td>\n",
       "      <td>영화 값 엄청난 공연 보았다 이 웬 횡재</td>\n",
       "    </tr>\n",
       "    <tr>\n",
       "      <th>4999</th>\n",
       "      <td>5000</td>\n",
       "      <td>올해엔 롯데 자이언츠가 꼭 우승했으면...</td>\n",
       "      <td>올해 롯데 자이언츠 꼭 우승했으면</td>\n",
       "    </tr>\n",
       "  </tbody>\n",
       "</table>\n",
       "<p>5000 rows × 3 columns</p>\n",
       "</div>"
      ],
      "text/plain": [
       "        id                             document  \\\n",
       "0        1                     시간 때우기 좋은 영화 지루함   \n",
       "1        2  훈훈한 정이 느껴지는 영화! 가족끼리 드라마 보듯이 보면 딱~!   \n",
       "2        3                    Childhood fantasy   \n",
       "3        4                  멋있는 영화입니다. 잊을 수 없는!   \n",
       "4        5                   너무 감동적이네요 펑펑 울었습니다   \n",
       "...    ...                                  ...   \n",
       "4995  4996        연계도 제대로 안되고 뭔가 부족한느낌이들고 찝찝한영화   \n",
       "4996  4997           내생에 최악의 영화중 하나 졸려서 미칠뻔....   \n",
       "4997  4998       지금까지 나온 드라마 중 최고였습니다. 100점 만점!   \n",
       "4998  4999       영화값으로 엄청난 공연을 보았다 - 이게 웬 횡재 ..   \n",
       "4999  5000              올해엔 롯데 자이언츠가 꼭 우승했으면...   \n",
       "\n",
       "                               main_pos  \n",
       "0                      시간 때우기 좋은 영화 지루함  \n",
       "1     훈훈한 정이 느껴지는 영화 가족 끼리 드라마 보듯이 보면 딱  \n",
       "2                                        \n",
       "3                    멋있는 영화 입니다 잊을 수 없는  \n",
       "4                   너무 감동 적이네요 펑펑 울었습니다  \n",
       "...                                 ...  \n",
       "4995      계 제대로 안되고 뭔가 부족한 느낌 들고 찝찝한 영화  \n",
       "4996               내생 최악 영화 하나 졸려서 미칠 뻔  \n",
       "4997           지금 나온 드라마 중 최고 였습니다 점 만점  \n",
       "4998             영화 값 엄청난 공연 보았다 이 웬 횡재  \n",
       "4999                 올해 롯데 자이언츠 꼭 우승했으면  \n",
       "\n",
       "[5000 rows x 3 columns]"
      ]
     },
     "execution_count": 57,
     "metadata": {},
     "output_type": "execute_result"
    }
   ],
   "source": [
    "main_pos = []\n",
    "for sentence in test['document']:\n",
    "    pos = okt.pos(sentence)\n",
    "    main_words = [word_pos[0] for word_pos in pos if word_pos[1] in (\"Noun\", \"Adverb\", \"Adjective\", \"Verb\")]\n",
    "    main_words_str = \" \".join(main_words)\n",
    "    main_pos.append(main_words_str)\n",
    "test['main_pos'] = pd.DataFrame(main_pos)\n",
    "\n",
    "test"
   ]
  },
  {
   "cell_type": "code",
   "execution_count": 54,
   "id": "946c7fe7",
   "metadata": {},
   "outputs": [
    {
     "data": {
      "text/html": [
       "<div>\n",
       "<style scoped>\n",
       "    .dataframe tbody tr th:only-of-type {\n",
       "        vertical-align: middle;\n",
       "    }\n",
       "\n",
       "    .dataframe tbody tr th {\n",
       "        vertical-align: top;\n",
       "    }\n",
       "\n",
       "    .dataframe thead th {\n",
       "        text-align: right;\n",
       "    }\n",
       "</style>\n",
       "<table border=\"1\" class=\"dataframe\">\n",
       "  <thead>\n",
       "    <tr style=\"text-align: right;\">\n",
       "      <th></th>\n",
       "      <th>id</th>\n",
       "      <th>label</th>\n",
       "    </tr>\n",
       "  </thead>\n",
       "  <tbody>\n",
       "    <tr>\n",
       "      <th>0</th>\n",
       "      <td>1</td>\n",
       "      <td>0</td>\n",
       "    </tr>\n",
       "    <tr>\n",
       "      <th>1</th>\n",
       "      <td>2</td>\n",
       "      <td>0</td>\n",
       "    </tr>\n",
       "    <tr>\n",
       "      <th>2</th>\n",
       "      <td>3</td>\n",
       "      <td>0</td>\n",
       "    </tr>\n",
       "    <tr>\n",
       "      <th>3</th>\n",
       "      <td>4</td>\n",
       "      <td>0</td>\n",
       "    </tr>\n",
       "    <tr>\n",
       "      <th>4</th>\n",
       "      <td>5</td>\n",
       "      <td>0</td>\n",
       "    </tr>\n",
       "  </tbody>\n",
       "</table>\n",
       "</div>"
      ],
      "text/plain": [
       "   id  label\n",
       "0   1      0\n",
       "1   2      0\n",
       "2   3      0\n",
       "3   4      0\n",
       "4   5      0"
      ]
     },
     "execution_count": 54,
     "metadata": {},
     "output_type": "execute_result"
    }
   ],
   "source": [
    "submission = pd.read_csv('movie_dataset/sample_submission.csv')\n",
    "submission.head()"
   ]
  },
  {
   "cell_type": "code",
   "execution_count": 55,
   "id": "2cba8cc7",
   "metadata": {},
   "outputs": [
    {
     "name": "stdout",
     "output_type": "stream",
     "text": [
      "[0 1 1 ... 1 1 1]\n"
     ]
    }
   ],
   "source": [
    "X_test = test.main_pos\n",
    "X_test_vec = vectorizer.transform(X_test)\n",
    "pred_test = model.predict(X_test_vec)\n",
    "print(pred_test)"
   ]
  },
  {
   "cell_type": "code",
   "execution_count": 56,
   "id": "6643e3d9",
   "metadata": {},
   "outputs": [
    {
     "data": {
      "text/html": [
       "<div>\n",
       "<style scoped>\n",
       "    .dataframe tbody tr th:only-of-type {\n",
       "        vertical-align: middle;\n",
       "    }\n",
       "\n",
       "    .dataframe tbody tr th {\n",
       "        vertical-align: top;\n",
       "    }\n",
       "\n",
       "    .dataframe thead th {\n",
       "        text-align: right;\n",
       "    }\n",
       "</style>\n",
       "<table border=\"1\" class=\"dataframe\">\n",
       "  <thead>\n",
       "    <tr style=\"text-align: right;\">\n",
       "      <th></th>\n",
       "      <th>id</th>\n",
       "      <th>label</th>\n",
       "    </tr>\n",
       "  </thead>\n",
       "  <tbody>\n",
       "    <tr>\n",
       "      <th>0</th>\n",
       "      <td>1</td>\n",
       "      <td>0</td>\n",
       "    </tr>\n",
       "    <tr>\n",
       "      <th>1</th>\n",
       "      <td>2</td>\n",
       "      <td>1</td>\n",
       "    </tr>\n",
       "    <tr>\n",
       "      <th>2</th>\n",
       "      <td>3</td>\n",
       "      <td>1</td>\n",
       "    </tr>\n",
       "    <tr>\n",
       "      <th>3</th>\n",
       "      <td>4</td>\n",
       "      <td>1</td>\n",
       "    </tr>\n",
       "    <tr>\n",
       "      <th>4</th>\n",
       "      <td>5</td>\n",
       "      <td>1</td>\n",
       "    </tr>\n",
       "    <tr>\n",
       "      <th>...</th>\n",
       "      <td>...</td>\n",
       "      <td>...</td>\n",
       "    </tr>\n",
       "    <tr>\n",
       "      <th>4995</th>\n",
       "      <td>4996</td>\n",
       "      <td>0</td>\n",
       "    </tr>\n",
       "    <tr>\n",
       "      <th>4996</th>\n",
       "      <td>4997</td>\n",
       "      <td>0</td>\n",
       "    </tr>\n",
       "    <tr>\n",
       "      <th>4997</th>\n",
       "      <td>4998</td>\n",
       "      <td>1</td>\n",
       "    </tr>\n",
       "    <tr>\n",
       "      <th>4998</th>\n",
       "      <td>4999</td>\n",
       "      <td>1</td>\n",
       "    </tr>\n",
       "    <tr>\n",
       "      <th>4999</th>\n",
       "      <td>5000</td>\n",
       "      <td>1</td>\n",
       "    </tr>\n",
       "  </tbody>\n",
       "</table>\n",
       "<p>5000 rows × 2 columns</p>\n",
       "</div>"
      ],
      "text/plain": [
       "        id  label\n",
       "0        1      0\n",
       "1        2      1\n",
       "2        3      1\n",
       "3        4      1\n",
       "4        5      1\n",
       "...    ...    ...\n",
       "4995  4996      0\n",
       "4996  4997      0\n",
       "4997  4998      1\n",
       "4998  4999      1\n",
       "4999  5000      1\n",
       "\n",
       "[5000 rows x 2 columns]"
      ]
     },
     "execution_count": 56,
     "metadata": {},
     "output_type": "execute_result"
    }
   ],
   "source": [
    "submission['label'] = pred_test\n",
    "\n",
    "submission"
   ]
  },
  {
   "cell_type": "code",
   "execution_count": 26,
   "id": "4328e33f",
   "metadata": {},
   "outputs": [],
   "source": [
    "submission.to_csv(\"submission_mycode_MLP.csv\", index=False)"
   ]
  },
  {
   "cell_type": "code",
   "execution_count": null,
   "id": "d5a06132",
   "metadata": {},
   "outputs": [],
   "source": []
  }
 ],
 "metadata": {
  "kernelspec": {
   "display_name": "Python 3 (ipykernel)",
   "language": "python",
   "name": "python3"
  },
  "language_info": {
   "codemirror_mode": {
    "name": "ipython",
    "version": 3
   },
   "file_extension": ".py",
   "mimetype": "text/x-python",
   "name": "python",
   "nbconvert_exporter": "python",
   "pygments_lexer": "ipython3",
   "version": "3.9.7"
  }
 },
 "nbformat": 4,
 "nbformat_minor": 5
}
